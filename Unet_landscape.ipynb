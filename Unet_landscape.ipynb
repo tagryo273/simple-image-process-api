{
 "cells": [
  {
   "cell_type": "code",
   "execution_count": null,
   "metadata": {},
   "outputs": [],
   "source": [
    "import tensorflow as tf\n",
    "import os\n",
    "import matplotlib.pyplot as plt\n",
    "from PIL import Image\n",
    "import glob\n",
    "import numpy as np\n",
    "from PIL import ImageFilter\n",
    "import tensorflow.keras.layers as layers\n",
    "from tensorflow.keras.models import load_model\n",
    "from sklearn.model_selection import train_test_split"
   ]
  },
  {
   "cell_type": "code",
   "execution_count": null,
   "metadata": {},
   "outputs": [],
   "source": [
    "#https://www.kaggle.com/robgonsalves/impressionistlandscapespaintings\n",
    "#↑からデータをダウンロードしてUnet_landscapeと同じ階層にアップロードしてください\n",
    "data_dir = \"content/drive/MyDrive/\""
   ]
  },
  {
   "cell_type": "code",
   "execution_count": null,
   "metadata": {},
   "outputs": [],
   "source": [
    "fig = plt.figure(figsize=(14, 14))\n",
    "image_paths = sorted(glob.glob(data_dir + \"impressionist_landscapes_resized_1024/*.jpg\"))\n",
    "for i in range(100):\n",
    " ax = fig.add_subplot(10, 10, i+1)\n",
    " ax.imshow(Image.open(image_paths[i]))\n",
    " ax.axis(\"off\")"
   ]
  },
  {
   "cell_type": "code",
   "execution_count": null,
   "metadata": {},
   "outputs": [],
   "source": [
    "#画像データが64*64ピクセルに直している\n",
    "ground_truths = []\n",
    "for path in image_paths:\n",
    "  with Image.open(path) as img:\n",
    "    if img.width < 64 or img.height < 64:\n",
    "      continue\n",
    "    img = img.resize((64, 64), Image.LANCZOS)\n",
    "    ground_truths.append(np.asarray(img, np.uint8))\n",
    "\n",
    "###\n",
    "ground_truths = np.asarray(ground_truths)\n",
    "print(ground_truths.shape, ground_truths.dtype)"
   ]
  },
  {
   "cell_type": "code",
   "execution_count": null,
   "metadata": {},
   "outputs": [],
   "source": [
    "fig = plt.figure(figsize=(20,20))\n",
    "for i in range(25):\n",
    "    ax = fig.add_subplot(5, 5, i+1)\n",
    "    ax.imshow(ground_truths[i])\n",
    "    ax.axis(\"off\")"
   ]
  },
  {
   "cell_type": "code",
   "execution_count": null,
   "metadata": {},
   "outputs": [],
   "source": [
    "#一度ピクセルを半分にし、その後ピクセルを戻し画像を荒くしている\n",
    "mosaics = []\n",
    "for i in range(ground_truths.shape[0]):\n",
    "  with Image.fromarray(ground_truths[i]) as img:\n",
    "    mosaic = img.resize((img.width//2, img.height//2), Image.NEAREST)\n",
    "    mosaic = mosaic.filter(ImageFilter.GaussianBlur(1.5))\n",
    "    mosaic = mosaic.resize(img.size, Image.NEAREST)\n",
    "    mosaics.append(np.asarray(mosaic))\n",
    "mosaics = np.asarray(mosaics)\n",
    "print(mosaics.shape, mosaics.dtype)"
   ]
  },
  {
   "cell_type": "code",
   "execution_count": null,
   "metadata": {},
   "outputs": [],
   "source": [
    "fig = plt.figure(figsize=(20, 20))\n",
    "for i in range(25):\n",
    "    ax = fig.add_subplot(5, 5, i+1)\n",
    "    ax.imshow(mosaics[i])\n",
    "    ax.axis(\"off\")"
   ]
  },
  {
   "cell_type": "code",
   "execution_count": null,
   "metadata": {},
   "outputs": [],
   "source": [
    "def se_block(inputs, ch,ratio=8):\n",
    "  x = layers.GlobalAveragePooling2D()(inputs)\n",
    "  x = layers.Dense(ch // ratio, activation=\"relu\")(x)\n",
    "  x = layers.Dense(ch, activation=\"sigmoid\")(x)\n",
    "  x = layers.Multiply()([inputs, x])\n",
    "  return x"
   ]
  },
  {
   "cell_type": "code",
   "execution_count": null,
   "metadata": {},
   "outputs": [],
   "source": [
    "#CNNより画像全体の特徴を取ることが出来る\n",
    "def sc_squeeze_and_excitation(inputs, ch):\n",
    "  x = layers.GlobalAveragePooling2D()(inputs)\n",
    "  x = layers.Dense(ch // 8, activation=\"relu\")(x)\n",
    "  x = layers.Dense(ch, activation=\"sigmoid\")(x)\n",
    "  x = layers.Reshape((1, 1, ch))(x)\n",
    "  x = layers.Multiply()([inputs, x])\n",
    " # sSE\n",
    "  y = layers.Conv2D(1, 1, activation=\"sigmoid\")(inputs)\n",
    "  y = layers.Multiply()([inputs, y])\n",
    " # add\n",
    "  x = layers.Add()([x, y])\n",
    "  return x"
   ]
  },
  {
   "cell_type": "code",
   "execution_count": null,
   "metadata": {},
   "outputs": [],
   "source": [
    "#入力マップのチャンネルを並べて出力マップに展開していくことで、今までよりも高速で処理を行うことが出来るらしい。\n",
    "def pixel_shuffle(inputs, out_ch):\n",
    "  x = layers.Conv2D(out_ch*4, 1, activation=\"relu\")(inputs)\n",
    "  x = layers.Lambda(lambda z: tf.nn.depth_to_space(z, 2))(x)\n",
    "  return x"
   ]
  },
  {
   "cell_type": "code",
   "execution_count": null,
   "metadata": {},
   "outputs": [],
   "source": [
    "#CNN\n",
    "def conv_bn_relu(inputs, ch):\n",
    "  x = layers.Conv2D(ch, 3, padding=\"same\")(inputs)\n",
    "  x = layers.BatchNormalization()(x)\n",
    "  return layers.ReLU()(x)\n"
   ]
  },
  {
   "cell_type": "code",
   "execution_count": null,
   "metadata": {},
   "outputs": [],
   "source": [
    "#損失関数\n",
    "def loss_function(y_true, y_pred):\n",
    "    return tf.reduce_mean(tf.abs(y_true-y_pred), axis=(1,2,3))"
   ]
  },
  {
   "cell_type": "code",
   "execution_count": null,
   "metadata": {},
   "outputs": [],
   "source": [
    "#評価関数\n",
    "def psnr(y_true, y_pred):\n",
    "    return tf.image.psnr(y_true, y_pred, max_val=1.0)"
   ]
  },
  {
   "cell_type": "code",
   "execution_count": null,
   "metadata": {},
   "outputs": [],
   "source": [
    "inputs = layers.Input((64, 64, 3))\n",
    " # エンコーダー\n",
    "encoders = []\n",
    "x = inputs\n",
    "for i in range(3):\n",
    "  x = conv_bn_relu(x, 64*2**i)\n",
    "  x = conv_bn_relu(x, 64*2**i)\n",
    "  x = sc_squeeze_and_excitation(x, 64*2**i)\n",
    "  encoders.append(x)\n",
    "  x = layers.AveragePooling2D(2)(x)\n",
    " # 中間層\n",
    "for d in [1, 2, 4]:\n",
    "  x = conv_bn_relu(x, 512)\n",
    "  x = conv_bn_relu(x, 512)\n",
    "for i in range(2, -1, -1):\n",
    "  x = pixel_shuffle(x, 64*2**i)\n",
    "  x = layers.Concatenate()([x, encoders[i]])\n",
    "  x = conv_bn_relu(x, 64*2**i)\n",
    "  x = conv_bn_relu(x, 64*2**i)\n",
    "  x = sc_squeeze_and_excitation(x, 64*2**i)\n",
    " # 出力層\n",
    "x = layers.Conv2D(3, 3, padding=\"same\", activation=\"sigmoid\")(x)\n",
    "\n",
    "model =  tf.keras.models.Model(inputs, x)\n",
    "\n",
    "model.summary()"
   ]
  },
  {
   "cell_type": "code",
   "execution_count": null,
   "metadata": {},
   "outputs": [],
   "source": [
    "from tensorflow.keras.callbacks import EarlyStopping"
   ]
  },
  {
   "cell_type": "code",
   "execution_count": null,
   "metadata": {},
   "outputs": [],
   "source": [
    "mosaic_train = np.asarray(mosaics, np.float32)/255.0\n",
    "gt_train = np.asarray(ground_truths, np.float32)/255.0"
   ]
  },
  {
   "cell_type": "code",
   "execution_count": null,
   "metadata": {},
   "outputs": [],
   "source": [
    "X_train, X_test, y_train, y_test = train_test_split(mosaic_train,gt_train, test_size=0.33, random_state=42)"
   ]
  },
  {
   "cell_type": "code",
   "execution_count": null,
   "metadata": {},
   "outputs": [],
   "source": [
    "es_cb = EarlyStopping(monitor='val_loss', patience=5, verbose=1, mode='auto')"
   ]
  },
  {
   "cell_type": "code",
   "execution_count": null,
   "metadata": {},
   "outputs": [],
   "source": [
    "model.compile(optimizer=\"Adam\", loss= loss_function,metrics=[ psnr ])"
   ]
  },
  {
   "cell_type": "code",
   "execution_count": null,
   "metadata": {
    "scrolled": true
   },
   "outputs": [],
   "source": [
    "history = model.fit(X_train,y_train, batch_size = 64 ,validation_data=(X_test, y_test), epochs = 50,callbacks=[es_cb])"
   ]
  },
  {
   "cell_type": "code",
   "execution_count": null,
   "metadata": {},
   "outputs": [],
   "source": [
    "y_pred = model.predict(X_test)[:100]\n",
    "fig = plt.figure(figsize=(20,20))\n",
    "for i in range(3):\n",
    "    ax = fig.add_subplot(3,3,3*i+1)\n",
    "    ax.imshow(y_test[i])\n",
    "    ax.axis(\"off\")\n",
    "    ax = fig.add_subplot(3,3,3*i+2)\n",
    "    ax.imshow(y_pred[i])\n",
    "    ax.axis(\"off\")\n",
    "    ax = fig.add_subplot(3,3,3*i+3)\n",
    "    ax.imshow(X_test[i])\n",
    "    ax.axis(\"off\")"
   ]
  },
  {
   "cell_type": "code",
   "execution_count": null,
   "metadata": {},
   "outputs": [],
   "source": [
    "model.save(\"Unet_landscape.h5\")"
   ]
  }
 ],
 "metadata": {
  "kernelspec": {
   "display_name": "Python 3",
   "language": "python",
   "name": "python3"
  },
  "language_info": {
   "codemirror_mode": {
    "name": "ipython",
    "version": 3
   },
   "file_extension": ".py",
   "mimetype": "text/x-python",
   "name": "python",
   "nbconvert_exporter": "python",
   "pygments_lexer": "ipython3",
   "version": "3.7.3"
  }
 },
 "nbformat": 4,
 "nbformat_minor": 2
}
